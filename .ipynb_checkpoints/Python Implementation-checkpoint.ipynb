{
 "cells": [
  {
   "cell_type": "code",
   "execution_count": 333,
   "metadata": {},
   "outputs": [],
   "source": [
    "import numpy as np\n",
    "import matplotlib.pyplot as plt\n",
    "import cvxpy as cp\n",
    "import pandas as pd\n",
    "\n",
    "\n",
    "def distmat(x, y):\n",
    "    return np.sum(x**2, 0)[:, None] + np.sum(y**2, 0)[None, :] - 2*x.transpose().dot(y)\n",
    "\n",
    "\n",
    "def normalize(a):\n",
    "    return a/np.sum(a)\n",
    "\n",
    "\n",
    "def add_intercept(dfX):\n",
    "    dfX['intercept'] = 1\n",
    "    l_col = list(dfX.columns)\n",
    "    l_col.remove('intercept')\n",
    "    return dfX[['intercept']+l_col]\n",
    "\n",
    "\n",
    "class VectorQuantileRegression:\n",
    "\n",
    "    def __init__(self):\n",
    "\n",
    "        self.X = None\n",
    "        self.Y = None\n",
    "        self.U = None\n",
    "        self.d = None\n",
    "        self.m = None\n",
    "        self.n = None\n",
    "        self.q = None\n",
    "        self.step = None\n",
    "        self.df = None\n",
    "\n",
    "    def get_U(self, d, step):\n",
    "\n",
    "        if d > 6:\n",
    "            print(\"Only d<=6 is yet supported\")\n",
    "            return None\n",
    "\n",
    "        elif d == 1:\n",
    "            u = np.arange(0, 1+step, step).T\n",
    "\n",
    "        elif d == 2:\n",
    "            x = np.arange(0, 1+step, step)\n",
    "            x, y = np.meshgrid(x, x)\n",
    "            u = np.array([x.flatten(), y.flatten()]).T\n",
    "\n",
    "        elif d == 3:\n",
    "            x = np.arange(0, 1+step, step)\n",
    "            x, y, z = np.meshgrid(x, x, x)\n",
    "            u = np.array([x.flatten(), y.flatten(), z.flatten()]).T\n",
    "\n",
    "        elif d == 4:\n",
    "            x = np.arange(0, 1+step, step)\n",
    "            x, y, z, x1 = np.meshgrid(x, x, x, x)\n",
    "            u = np.array([x.flatten(), y.flatten(),\n",
    "                          z.flatten(), x1.flatten()]).T\n",
    "\n",
    "        elif d == 5:\n",
    "            x = np.arange(0, 1+step, step)\n",
    "            x, y, z, x1, y1 = np.meshgrid(x, x, x, x, x)\n",
    "            u = np.array([x.flatten(), y.flatten(),\n",
    "                          z.flatten(), x1.flatten(), y1.flatten()]).T\n",
    "\n",
    "        elif d == 6:\n",
    "            x = np.arange(0, 1+step, step)\n",
    "            x, y, z, x1, y1, z1 = np.meshgrid(x, x, x, x, x, x)\n",
    "            u = np.array([x.flatten(), y.flatten(), z.flatten(), x1.flatten(),\n",
    "                          y1.flatten(), z1.flatten()]).T\n",
    "        return u\n",
    "\n",
    "    def fit(self, X, Y, step=0.05, verbose=False):\n",
    "        Y = Y.to_numpy().T\n",
    "        X = add_intercept(X).to_numpy()\n",
    "        self.X = X\n",
    "        self.Y = Y\n",
    "\n",
    "        self.q = X.shape[1]\n",
    "\n",
    "        d = Y.shape[0]\n",
    "        self.d = d\n",
    "        self.step = step\n",
    "\n",
    "        u = self.get_U(d, step)\n",
    "        U = u.T\n",
    "        self.U = U\n",
    "\n",
    "        n = Y.shape[1]\n",
    "        m = U.shape[1]\n",
    "\n",
    "        self.n = n\n",
    "        self.m = m\n",
    "\n",
    "        nu = normalize(np.random.rand(n, 1))\n",
    "        mu = normalize(np.random.rand(m, 1))\n",
    "\n",
    "        C = distmat(U, Y)\n",
    "        P = cp.Variable((m, n))\n",
    "        ind_m = np.ones((m, 1))\n",
    "        constraints = [0 <= P,\n",
    "                       cp.matmul(P.T, ind_m) == nu,\n",
    "                       cp.matmul(P, X) == cp.matmul(cp.matmul(mu, nu.T), X)]\n",
    "\n",
    "        objective = cp.Minimize(cp.sum(cp.multiply(P, C)))\n",
    "        prob = cp.Problem(objective, constraints)\n",
    "        result = prob.solve(verbose=verbose)\n",
    "        psi = constraints[1].dual_value\n",
    "        b = constraints[2].dual_value\n",
    "\n",
    "        self.result = result\n",
    "        self.b = b\n",
    "        self.psi = psi\n",
    "\n",
    "    def get_dfU(self, U, b, step):\n",
    "        u = U.T\n",
    "        d = u.shape[1]\n",
    "        dfU = pd.DataFrame(u)\n",
    "        dim = [i for i in range(d)]\n",
    "        self.dim = dim\n",
    "        dfU[[str(i)+\"_follower\" for i in list(dfU.columns)]] = dfU[dfU.columns]\n",
    "\n",
    "        for k in range(d):\n",
    "\n",
    "            dfU_temp = dfU.copy()\n",
    "            dfU_temp[k] = dfU_temp[k].apply(\n",
    "                                        lambda x: x+step if x < 1 else x-step)\n",
    "\n",
    "            find_in = list(dfU[dim].apply(\n",
    "                                    lambda x: list(np.around(x, 3)), axis=1))\n",
    "            dfU[str(k)+\"_follower\"] = dfU_temp[dim].apply(\n",
    "                        lambda x: list(np.around(x, 3)), axis=1\n",
    "                                                            ).apply(\n",
    "                                                    lambda x: find_in.index(x)\n",
    "                                                                    )\n",
    "\n",
    "        dfU['b'] = pd.DataFrame(b).apply(np.array, axis=1)\n",
    "\n",
    "        for i in range(d):\n",
    "            dfU['beta_'+str(i)] = (dfU.loc[list(dfU[str(i)+\"_follower\"])][['b']].reset_index(drop=True) - dfU[['b']])/step\n",
    "\n",
    "        beta = ['beta_'+str(i) for i in range(2)]\n",
    "        dfU['beta'] = dfU[beta].apply(lambda x: np.vstack(x), axis=1)\n",
    "\n",
    "        return dfU\n",
    "\n",
    "    def predict(self, X=None, u_quantile=None, argument=\"U\"):\n",
    "\n",
    "        '''\n",
    "        argument in {\"U\", \"X\"}\n",
    "        u_quantile liste with quantiles\n",
    "        '''\n",
    "        U = self.U\n",
    "        b = self.b\n",
    "        step = self.step\n",
    "        X = add_intercept(X)\n",
    "\n",
    "        if argument == \"X\":\n",
    "\n",
    "            if self.df is None:\n",
    "                df = self.get_dfU(U, b, step)\n",
    "                self.df = df\n",
    "            else:\n",
    "                df = self.df\n",
    "\n",
    "            ser = pd.Series([u_quantile]*m)\n",
    "\n",
    "            pos = df[self.dim].apply(lambda x: list(np.around(x, 3)), axis=1)\n",
    "            beta = df['beta'][pos == ser].iloc[0]\n",
    "\n",
    "            xeval = X.apply(lambda x: np.array(x).reshape(-1,1), axis=1).to_frame()\n",
    "            xeval.columns = ['X']\n",
    "            df_res = xeval.copy()\n",
    "\n",
    "            if self.q == 1:\n",
    "                df_res['y_pred'] = df_res['X'].apply(lambda x: beta*x)\n",
    "            else:\n",
    "                df_res['y_pred'] = df_res['X'].apply(lambda x: np.matmul(beta,x))\n",
    "\n",
    "            return df_res\n",
    "\n",
    "        elif argument == \"U\":\n",
    "            if xeval.shape != (self.q,):\n",
    "                print(\"If argument = U then you can only give one observation.\")\n",
    "                return\n",
    "\n",
    "            if self.df is None:\n",
    "                df = self.get_dfU(U, b, step)\n",
    "                self.df = df\n",
    "            else:\n",
    "                df = self.df\n",
    "\n",
    "            df['y_pred'] = df['beta'].apply(lambda x: np.matmul(x, X))\n",
    "\n",
    "            return df[self.dim + ['y_pred']]\n",
    "\n",
    "        else:\n",
    "            print(\"argument not recognized\")\n",
    "            return None\n",
    "\n",
    "#    def plot_surface():\n",
    "#        \"une fonction pour ploter les surfaces\"\n",
    "\n",
    "#    def plot_lines():\n"
   ]
  },
  {
   "cell_type": "code",
   "execution_count": 334,
   "metadata": {},
   "outputs": [
    {
     "data": {
      "application/javascript": [
       "IPython.OutputArea.prototype._should_scroll = function(lines) {\n",
       "    return false;\n",
       "}\n"
      ],
      "text/plain": [
       "<IPython.core.display.Javascript object>"
      ]
     },
     "metadata": {},
     "output_type": "display_data"
    }
   ],
   "source": [
    "%%javascript\n",
    "IPython.OutputArea.prototype._should_scroll = function(lines) {\n",
    "    return false;\n",
    "}"
   ]
  },
  {
   "cell_type": "code",
   "execution_count": 335,
   "metadata": {},
   "outputs": [],
   "source": [
    "import numpy as np\n",
    "import matplotlib.pyplot as plt\n",
    "import cvxpy as cp\n",
    "import cv2\n",
    "import random"
   ]
  },
  {
   "cell_type": "code",
   "execution_count": 336,
   "metadata": {},
   "outputs": [],
   "source": [
    "from pylab import rcParams\n",
    "rcParams['figure.figsize'] = 15, 10"
   ]
  },
  {
   "cell_type": "code",
   "execution_count": 338,
   "metadata": {},
   "outputs": [],
   "source": [
    "X = pd.read_excel('Data/MVEngel.xls', 'X' ,header= None)\n",
    "Y = pd.read_excel('Data/MVEngel.xls', 'Y' ,header= None).fillna(0)\n",
    "\n",
    "X.columns = ['income']\n",
    "\n",
    "Y.columns = ['food',\n",
    "'clothing',\n",
    "'housing',\n",
    "'heating/lightening',\n",
    "'tools',\n",
    "'education',\n",
    "'public safety',\n",
    "'health',\n",
    "'services'\n",
    "]"
   ]
  },
  {
   "cell_type": "code",
   "execution_count": 340,
   "metadata": {},
   "outputs": [
    {
     "data": {
      "text/html": [
       "<div>\n",
       "<style scoped>\n",
       "    .dataframe tbody tr th:only-of-type {\n",
       "        vertical-align: middle;\n",
       "    }\n",
       "\n",
       "    .dataframe tbody tr th {\n",
       "        vertical-align: top;\n",
       "    }\n",
       "\n",
       "    .dataframe thead th {\n",
       "        text-align: right;\n",
       "    }\n",
       "</style>\n",
       "<table border=\"1\" class=\"dataframe\">\n",
       "  <thead>\n",
       "    <tr style=\"text-align: right;\">\n",
       "      <th></th>\n",
       "      <th>income</th>\n",
       "    </tr>\n",
       "  </thead>\n",
       "  <tbody>\n",
       "    <tr>\n",
       "      <td>0</td>\n",
       "      <td>835.94</td>\n",
       "    </tr>\n",
       "    <tr>\n",
       "      <td>1</td>\n",
       "      <td>873.44</td>\n",
       "    </tr>\n",
       "    <tr>\n",
       "      <td>2</td>\n",
       "      <td>951.44</td>\n",
       "    </tr>\n",
       "    <tr>\n",
       "      <td>3</td>\n",
       "      <td>473.00</td>\n",
       "    </tr>\n",
       "    <tr>\n",
       "      <td>4</td>\n",
       "      <td>601.00</td>\n",
       "    </tr>\n",
       "    <tr>\n",
       "      <td>...</td>\n",
       "      <td>...</td>\n",
       "    </tr>\n",
       "    <tr>\n",
       "      <td>230</td>\n",
       "      <td>718.36</td>\n",
       "    </tr>\n",
       "    <tr>\n",
       "      <td>231</td>\n",
       "      <td>543.90</td>\n",
       "    </tr>\n",
       "    <tr>\n",
       "      <td>232</td>\n",
       "      <td>1587.35</td>\n",
       "    </tr>\n",
       "    <tr>\n",
       "      <td>233</td>\n",
       "      <td>4957.83</td>\n",
       "    </tr>\n",
       "    <tr>\n",
       "      <td>234</td>\n",
       "      <td>969.69</td>\n",
       "    </tr>\n",
       "  </tbody>\n",
       "</table>\n",
       "<p>235 rows × 1 columns</p>\n",
       "</div>"
      ],
      "text/plain": [
       "      income\n",
       "0     835.94\n",
       "1     873.44\n",
       "2     951.44\n",
       "3     473.00\n",
       "4     601.00\n",
       "..       ...\n",
       "230   718.36\n",
       "231   543.90\n",
       "232  1587.35\n",
       "233  4957.83\n",
       "234   969.69\n",
       "\n",
       "[235 rows x 1 columns]"
      ]
     },
     "execution_count": 340,
     "metadata": {},
     "output_type": "execute_result"
    }
   ],
   "source": [
    "X"
   ]
  },
  {
   "cell_type": "code",
   "execution_count": 341,
   "metadata": {},
   "outputs": [],
   "source": [
    "Y = Y[['food',\n",
    "'clothing']]"
   ]
  },
  {
   "cell_type": "code",
   "execution_count": 342,
   "metadata": {
    "scrolled": true
   },
   "outputs": [
    {
     "data": {
      "text/plain": [
       "(2, 235)"
      ]
     },
     "execution_count": 342,
     "metadata": {},
     "output_type": "execute_result"
    }
   ],
   "source": [
    "Y.to_numpy().T.shape"
   ]
  },
  {
   "cell_type": "code",
   "execution_count": 343,
   "metadata": {},
   "outputs": [],
   "source": [
    "clf = VectorQuantileRegression()"
   ]
  },
  {
   "cell_type": "code",
   "execution_count": 344,
   "metadata": {
    "scrolled": true
   },
   "outputs": [],
   "source": [
    "clf.fit(X,Y)"
   ]
  },
  {
   "cell_type": "code",
   "execution_count": 345,
   "metadata": {
    "scrolled": true
   },
   "outputs": [],
   "source": [
    "x_test = pd.DataFrame(np.arange(600,1400,100))"
   ]
  },
  {
   "cell_type": "code",
   "execution_count": null,
   "metadata": {},
   "outputs": [],
   "source": []
  },
  {
   "cell_type": "code",
   "execution_count": 346,
   "metadata": {
    "scrolled": true
   },
   "outputs": [],
   "source": [
    "dr = clf.predict(X= x_test, u_quantile=[0.8,0.8], argument =\"X\")"
   ]
  },
  {
   "cell_type": "code",
   "execution_count": 347,
   "metadata": {},
   "outputs": [
    {
     "data": {
      "text/plain": [
       "0     [[882.7622804460407], [152.28321469318416]]\n",
       "1    [[1011.6679480811217], [194.20207663115661]]\n",
       "2    [[1140.5736157162028], [236.12093856912907]]\n",
       "3     [[1269.4792833512838], [278.0398005071015]]\n",
       "4    [[1398.3849509863649], [319.95866244507397]]\n",
       "5      [[1527.290618621446], [361.8775243830464]]\n",
       "6      [[1656.196286256527], [403.7963863210189]]\n",
       "7      [[1785.101953891608], [445.7152482589913]]\n",
       "Name: y_pred, dtype: object"
      ]
     },
     "execution_count": 347,
     "metadata": {},
     "output_type": "execute_result"
    }
   ],
   "source": [
    "dr['y_pred']#.iloc[0].shape"
   ]
  },
  {
   "cell_type": "code",
   "execution_count": null,
   "metadata": {},
   "outputs": [],
   "source": [
    "beta.shape"
   ]
  },
  {
   "cell_type": "code",
   "execution_count": 114,
   "metadata": {
    "scrolled": true
   },
   "outputs": [
    {
     "data": {
      "text/html": [
       "<div>\n",
       "<style scoped>\n",
       "    .dataframe tbody tr th:only-of-type {\n",
       "        vertical-align: middle;\n",
       "    }\n",
       "\n",
       "    .dataframe tbody tr th {\n",
       "        vertical-align: top;\n",
       "    }\n",
       "\n",
       "    .dataframe thead th {\n",
       "        text-align: right;\n",
       "    }\n",
       "</style>\n",
       "<table border=\"1\" class=\"dataframe\">\n",
       "  <thead>\n",
       "    <tr style=\"text-align: right;\">\n",
       "      <th></th>\n",
       "      <th>Y1</th>\n",
       "      <th>Y2</th>\n",
       "      <th>Intercept</th>\n",
       "      <th>X</th>\n",
       "    </tr>\n",
       "  </thead>\n",
       "  <tbody>\n",
       "    <tr>\n",
       "      <td>0</td>\n",
       "      <td>576.28</td>\n",
       "      <td>125.12</td>\n",
       "      <td>1</td>\n",
       "      <td>835.94</td>\n",
       "    </tr>\n",
       "    <tr>\n",
       "      <td>1</td>\n",
       "      <td>631.80</td>\n",
       "      <td>153.64</td>\n",
       "      <td>1</td>\n",
       "      <td>873.44</td>\n",
       "    </tr>\n",
       "    <tr>\n",
       "      <td>2</td>\n",
       "      <td>608.64</td>\n",
       "      <td>186.00</td>\n",
       "      <td>1</td>\n",
       "      <td>951.44</td>\n",
       "    </tr>\n",
       "    <tr>\n",
       "      <td>3</td>\n",
       "      <td>301.00</td>\n",
       "      <td>122.00</td>\n",
       "      <td>1</td>\n",
       "      <td>473.00</td>\n",
       "    </tr>\n",
       "    <tr>\n",
       "      <td>4</td>\n",
       "      <td>378.00</td>\n",
       "      <td>134.00</td>\n",
       "      <td>1</td>\n",
       "      <td>601.00</td>\n",
       "    </tr>\n",
       "  </tbody>\n",
       "</table>\n",
       "</div>"
      ],
      "text/plain": [
       "       Y1      Y2  Intercept       X\n",
       "0  576.28  125.12          1  835.94\n",
       "1  631.80  153.64          1  873.44\n",
       "2  608.64  186.00          1  951.44\n",
       "3  301.00  122.00          1  473.00\n",
       "4  378.00  134.00          1  601.00"
      ]
     },
     "execution_count": 114,
     "metadata": {},
     "output_type": "execute_result"
    }
   ],
   "source": [
    "import pandas as pd\n",
    "\n",
    "X = pd.read_csv('Data/MVEngelX.csv', header= None)\n",
    "Y = pd.read_csv('Data/MVEngelY.csv', header= None)\n",
    "\n",
    "X.columns = ['X']\n",
    "Y.columns = ['Y1', 'Y2']\n",
    "\n",
    "df = Y\n",
    "df['Intercept'] =1\n",
    "df['X'] = X\n",
    "#df['X2'] = X**2\n",
    "\n",
    "df.head(5)"
   ]
  },
  {
   "cell_type": "code",
   "execution_count": 124,
   "metadata": {},
   "outputs": [
    {
     "ename": "ValueError",
     "evalue": "matmul: Input operand 1 does not have enough dimensions (has 0, gufunc core with signature (n?,k),(k,m?)->(n?,m?) requires 1)",
     "output_type": "error",
     "traceback": [
      "\u001b[1;31m---------------------------------------------------------------------------\u001b[0m",
      "\u001b[1;31mValueError\u001b[0m                                Traceback (most recent call last)",
      "\u001b[1;32m<ipython-input-124-1b60d05f64a3>\u001b[0m in \u001b[0;36m<module>\u001b[1;34m\u001b[0m\n\u001b[1;32m----> 1\u001b[1;33m \u001b[0mnp\u001b[0m\u001b[1;33m.\u001b[0m\u001b[0mmatmul\u001b[0m\u001b[1;33m(\u001b[0m\u001b[0mbeta\u001b[0m\u001b[1;33m,\u001b[0m\u001b[0mdf\u001b[0m\u001b[1;33m[\u001b[0m\u001b[1;34m'X'\u001b[0m\u001b[1;33m]\u001b[0m\u001b[1;33m.\u001b[0m\u001b[0mloc\u001b[0m\u001b[1;33m[\u001b[0m\u001b[1;36m0\u001b[0m\u001b[1;33m]\u001b[0m\u001b[1;33m)\u001b[0m\u001b[1;33m\u001b[0m\u001b[1;33m\u001b[0m\u001b[0m\n\u001b[0m",
      "\u001b[1;31mValueError\u001b[0m: matmul: Input operand 1 does not have enough dimensions (has 0, gufunc core with signature (n?,k),(k,m?)->(n?,m?) requires 1)"
     ]
    }
   ],
   "source": [
    "np.matmul(beta,df['X'].loc[0])"
   ]
  },
  {
   "cell_type": "code",
   "execution_count": 129,
   "metadata": {},
   "outputs": [
    {
     "data": {
      "text/plain": [
       "(1,)"
      ]
     },
     "execution_count": 129,
     "metadata": {},
     "output_type": "execute_result"
    }
   ],
   "source": [
    "np.array([df['X'].loc[0]]).shape"
   ]
  },
  {
   "cell_type": "code",
   "execution_count": 130,
   "metadata": {},
   "outputs": [
    {
     "data": {
      "text/plain": [
       "0       [663.3565138986073, 200.45692442073124]\n",
       "1       [693.1144741244582, 209.44935768840287]\n",
       "2        [755.011031394228, 228.15361888515986]\n",
       "3      [375.34707164873225, 113.42455828289815]\n",
       "4       [476.92090921963654, 144.1187305032173]\n",
       "                         ...                   \n",
       "230     [570.0514215424594, 172.26144965772244]\n",
       "231     [431.60945511574096, 130.4262521143093]\n",
       "232    [1259.6346177201165, 380.64370526502825]\n",
       "233     [3934.2642119074717, 1188.878811398945]\n",
       "234     [769.4932387041421, 232.52993640876005]\n",
       "Name: X, Length: 235, dtype: object"
      ]
     },
     "execution_count": 130,
     "metadata": {},
     "output_type": "execute_result"
    }
   ],
   "source": [
    "df['X'].apply(lambda x: np.matmul(beta,np.array([x])))"
   ]
  },
  {
   "cell_type": "code",
   "execution_count": 13,
   "metadata": {},
   "outputs": [],
   "source": [
    "X = df[['Intercept'\n",
    "        , 'X'\n",
    "      #  , 'X2'\n",
    "       ]].to_numpy()\n",
    "\n",
    "Y = df[[\n",
    "        'Y1',\n",
    "        'Y2'\n",
    "        ]].to_numpy()\n",
    "\n",
    "d = Y.shape[1]"
   ]
  },
  {
   "cell_type": "code",
   "execution_count": 14,
   "metadata": {},
   "outputs": [
    {
     "data": {
      "text/plain": [
       "(235, 2)"
      ]
     },
     "execution_count": 14,
     "metadata": {},
     "output_type": "execute_result"
    }
   ],
   "source": [
    "Y.shape"
   ]
  },
  {
   "cell_type": "code",
   "execution_count": null,
   "metadata": {},
   "outputs": [],
   "source": []
  },
  {
   "cell_type": "code",
   "execution_count": 15,
   "metadata": {},
   "outputs": [],
   "source": [
    "def get_U(d, step):\n",
    "    \n",
    "    if d > 6 :\n",
    "        print(\"Only d<=6 is yet supported\")\n",
    "        return None\n",
    "    \n",
    "    elif d == 1 :\n",
    "        u=np.arange(0, 1+step, step).T\n",
    "    \n",
    "    elif d ==2 :\n",
    "        x = np.arange(0, 1+step, step)\n",
    "        x,y = np.meshgrid(x,x)\n",
    "        u=np.array([x.flatten(),y.flatten()]).T\n",
    "\n",
    "    elif d ==3 :\n",
    "        x = np.arange(0, 1+step, step)\n",
    "        x,y,z = np.meshgrid(x,x,x)\n",
    "        u=np.array([x.flatten(),y.flatten(), z.flatten()]).T\n",
    "\n",
    "    elif d ==4 :\n",
    "        x = np.arange(0, 1+step, step)\n",
    "        x,y,z,x1 = np.meshgrid(x,x,x,x)\n",
    "        u=np.array([x.flatten(),y.flatten(), z.flatten(),x1.flatten()]).T\n",
    "\n",
    "    elif d == 5 :\n",
    "        x = np.arange(0, 1+step, step)\n",
    "        x,y,z,x1, y1 = np.meshgrid(x,x,x,x,x)\n",
    "        u=np.array([x.flatten(),y.flatten(), z.flatten(), x1.flatten(), y1.flatten()]).T\n",
    "\n",
    "    elif d == 6 :\n",
    "        x = np.arange(0, 1+step, step)\n",
    "        x,y,z,x1, y1, z1 = np.meshgrid(x,x,x,x,x,x)\n",
    "        u=np.array([x.flatten(),y.flatten(), z.flatten(), x1.flatten(), y1.flatten(), z1.flatten()]).T\n",
    "    \n",
    "    return u"
   ]
  },
  {
   "cell_type": "code",
   "execution_count": 16,
   "metadata": {},
   "outputs": [],
   "source": [
    "step = 0.05\n",
    "u = get_U(2, step)"
   ]
  },
  {
   "cell_type": "code",
   "execution_count": 17,
   "metadata": {},
   "outputs": [],
   "source": [
    "U = u.T\n",
    "Y = Y.T"
   ]
  },
  {
   "cell_type": "code",
   "execution_count": 18,
   "metadata": {},
   "outputs": [
    {
     "data": {
      "text/plain": [
       "((2, 441), (2, 235), (235, 2))"
      ]
     },
     "execution_count": 18,
     "metadata": {},
     "output_type": "execute_result"
    }
   ],
   "source": [
    "U.shape , Y.shape, X.shape"
   ]
  },
  {
   "cell_type": "code",
   "execution_count": 19,
   "metadata": {},
   "outputs": [],
   "source": [
    "n = Y.shape[1]\n",
    "m = U.shape[1]\n"
   ]
  },
  {
   "cell_type": "code",
   "execution_count": 20,
   "metadata": {},
   "outputs": [],
   "source": [
    "normalize = lambda a: a/np.sum(a)\n",
    "nu = normalize(np.random.rand(n, 1))\n",
    "mu = normalize(np.random.rand(m, 1))"
   ]
  },
  {
   "cell_type": "code",
   "execution_count": 21,
   "metadata": {},
   "outputs": [],
   "source": [
    "def distmat(x,y):\n",
    "    return np.sum(x**2,0)[:,None] + np.sum(y**2,0)[None,:] - 2*x.transpose().dot(y)\n",
    "C = distmat(U,Y)"
   ]
  },
  {
   "cell_type": "code",
   "execution_count": 22,
   "metadata": {},
   "outputs": [],
   "source": [
    "P = cp.Variable((m,n))\n",
    "ind_n = np.ones((n,1))\n",
    "ind_m = np.ones((m,1))"
   ]
  },
  {
   "cell_type": "code",
   "execution_count": 23,
   "metadata": {},
   "outputs": [],
   "source": [
    "constraints = [0 <= P, cp.matmul(P.T,ind_m)==nu, cp.matmul(P,X)==cp.matmul(cp.matmul(mu,nu.T),X)]"
   ]
  },
  {
   "cell_type": "code",
   "execution_count": 24,
   "metadata": {
    "scrolled": true
   },
   "outputs": [
    {
     "name": "stdout",
     "output_type": "stream",
     "text": [
      "Wall time: 1.31 s\n"
     ]
    }
   ],
   "source": [
    "%%time\n",
    "objective = cp.Minimize(cp.sum(cp.multiply(P,C)))\n",
    "prob = cp.Problem(objective, constraints)\n",
    "result = prob.solve()"
   ]
  },
  {
   "cell_type": "code",
   "execution_count": 25,
   "metadata": {},
   "outputs": [
    {
     "name": "stdout",
     "output_type": "stream",
     "text": [
      "Number of non-zero: 4535 (n + m-1 = 675)\n"
     ]
    }
   ],
   "source": [
    "print(\"Number of non-zero: %d (n + m-1 = %d)\" %(len(P.value[P.value>1e-5]), n + m-1))"
   ]
  },
  {
   "cell_type": "code",
   "execution_count": 26,
   "metadata": {},
   "outputs": [],
   "source": [
    "psi = constraints[1].dual_value\n",
    "b = constraints[2].dual_value"
   ]
  },
  {
   "cell_type": "markdown",
   "metadata": {},
   "source": [
    "# Precious function"
   ]
  },
  {
   "cell_type": "code",
   "execution_count": 27,
   "metadata": {},
   "outputs": [
    {
     "data": {
      "text/plain": [
       "(2, 441)"
      ]
     },
     "execution_count": 27,
     "metadata": {},
     "output_type": "execute_result"
    }
   ],
   "source": [
    "U.shape"
   ]
  },
  {
   "cell_type": "code",
   "execution_count": 28,
   "metadata": {
    "scrolled": true
   },
   "outputs": [],
   "source": [
    "def get_dfU(U, b,step):\n",
    "    d = U.T.shape[1]\n",
    "    dfU = pd.DataFrame(u)\n",
    "    dim = [i for i in range(d)]\n",
    "    dfU[[str(i)+\"_follower\" for i in list(dfU.columns)]] = dfU[dfU.columns]\n",
    "\n",
    "    for k in range(d):\n",
    "    \n",
    "        dfU_temp = dfU.copy()\n",
    "        dfU_temp[k] = dfU_temp[k].apply(lambda x: x+step if x<1 else x-step )\n",
    "    \n",
    "        find_in = list(dfU[dim].apply(lambda x: list(np.around(x, 3)),axis=1))\n",
    "    \n",
    "        dfU[str(k)+\"_follower\"] = dfU_temp[dim].apply(lambda x: list(np.around(x, 3)), axis =1).apply(lambda x: find_in.index(x))\n",
    "    \n",
    "    dfU['b']=pd.DataFrame(b).apply(np.array,axis=1)\n",
    "    \n",
    "    for i in range(d):\n",
    "        dfU['beta_'+str(i)]=(dfU.loc[list(dfU[str(i)+\"_follower\"])][['b']].reset_index(drop=True) - dfU[['b']])/step\n",
    "    \n",
    "    beta = ['beta_'+str(i) for i in range(2)]\n",
    "    dfU['beta'] = dfU[beta].apply(lambda x : np.vstack(x), axis = 1)\n",
    "    \n",
    "    return dfU"
   ]
  },
  {
   "cell_type": "code",
   "execution_count": 29,
   "metadata": {
    "scrolled": true
   },
   "outputs": [
    {
     "data": {
      "text/plain": [
       "(2,)"
      ]
     },
     "execution_count": 29,
     "metadata": {},
     "output_type": "execute_result"
    }
   ],
   "source": [
    "xeval = np.array([1,\n",
    "                  883.99,\n",
    "                  #883.99**2\n",
    "                 ])\n",
    "xeval.shape"
   ]
  },
  {
   "cell_type": "code",
   "execution_count": 36,
   "metadata": {},
   "outputs": [
    {
     "data": {
      "text/plain": [
       "True"
      ]
     },
     "execution_count": 36,
     "metadata": {},
     "output_type": "execute_result"
    }
   ],
   "source": [
    "xeval.shape ==(d,)"
   ]
  },
  {
   "cell_type": "code",
   "execution_count": 30,
   "metadata": {
    "scrolled": true
   },
   "outputs": [],
   "source": [
    "df = get_dfU(U, b,step)"
   ]
  },
  {
   "cell_type": "code",
   "execution_count": 31,
   "metadata": {},
   "outputs": [],
   "source": [
    "y_hat = df['beta'].apply(lambda x : np.matmul(x, xeval))"
   ]
  },
  {
   "cell_type": "code",
   "execution_count": null,
   "metadata": {},
   "outputs": [],
   "source": []
  },
  {
   "cell_type": "code",
   "execution_count": 151,
   "metadata": {
    "scrolled": true
   },
   "outputs": [],
   "source": [
    "y_1_hat = y_hat.apply(lambda x: x[0])\n",
    "y_2_hat = y_hat.apply(lambda x: x[1])"
   ]
  },
  {
   "cell_type": "code",
   "execution_count": 152,
   "metadata": {},
   "outputs": [],
   "source": [
    "y_1_hat = np.abs(y_1_hat)\n",
    "y_2_hat = np.abs(y_2_hat)"
   ]
  },
  {
   "cell_type": "code",
   "execution_count": 153,
   "metadata": {},
   "outputs": [
    {
     "data": {
      "text/plain": [
       "1403.003260882995"
      ]
     },
     "execution_count": 153,
     "metadata": {},
     "output_type": "execute_result"
    }
   ],
   "source": [
    "np.mean(y_1_hat + y_2_hat)"
   ]
  },
  {
   "cell_type": "code",
   "execution_count": 154,
   "metadata": {},
   "outputs": [
    {
     "data": {
      "image/png": "[encoded data removed]",
      "text/plain": [
       "<Figure size 1080x720 with 1 Axes>"
      ]
     },
     "metadata": {
      "needs_background": "light"
     },
     "output_type": "display_data"
    }
   ],
   "source": [
    "from mpl_toolkits.mplot3d import Axes3D\n",
    "import matplotlib.pyplot as plt\n",
    "from matplotlib import cm\n",
    "from matplotlib.ticker import LinearLocator, FormatStrFormatter\n",
    "import numpy as np\n",
    "\n",
    "g = int(np.sqrt(df.shape[0]))\n",
    "\n",
    "fig = plt.figure()\n",
    "ax = fig.gca(projection='3d')\n",
    "\n",
    "x = np.reshape(df[0].ravel(), (g, g))\n",
    "y = np.reshape(df[1].ravel(), (g, g))\n",
    "z = np.reshape(y_1_hat.ravel(), (g, g))\n",
    "\n",
    "surf = ax.plot_surface(-x, y, z, cmap=cm.coolwarm,\n",
    "                       linewidth=0, antialiased=False)\n",
    "\n",
    "\n",
    "    \n",
    "plt.show()"
   ]
  },
  {
   "cell_type": "code",
   "execution_count": 155,
   "metadata": {
    "scrolled": true
   },
   "outputs": [
    {
     "data": {
      "image/png": "[encoded data removed]",
      "text/plain": [
       "<Figure size 1080x720 with 1 Axes>"
      ]
     },
     "metadata": {
      "needs_background": "light"
     },
     "output_type": "display_data"
    }
   ],
   "source": [
    "from mpl_toolkits.mplot3d import Axes3D\n",
    "import matplotlib.pyplot as plt\n",
    "from matplotlib import cm\n",
    "from matplotlib.ticker import LinearLocator, FormatStrFormatter\n",
    "import numpy as np\n",
    "\n",
    "g = int(np.sqrt(df.shape[0]))\n",
    "\n",
    "fig = plt.figure()\n",
    "ax = fig.gca(projection='3d')\n",
    "\n",
    "x = np.reshape(df[0].ravel(), (g, g))\n",
    "y = np.reshape(df[1].ravel(), (g, g))\n",
    "z = np.reshape(y_2_hat.ravel(), (g, g))\n",
    "\n",
    "surf = ax.plot_surface(-x, y, z, cmap=cm.coolwarm,\n",
    "                       linewidth=0, antialiased=False)\n",
    "\n",
    "\n",
    "plt.show()"
   ]
  },
  {
   "cell_type": "code",
   "execution_count": null,
   "metadata": {},
   "outputs": [],
   "source": []
  }
 ],
 "metadata": {
  "kernelspec": {
   "display_name": "Python 3",
   "language": "python",
   "name": "python3"
  },
  "language_info": {
   "codemirror_mode": {
    "name": "ipython",
    "version": 3
   },
   "file_extension": ".py",
   "mimetype": "text/x-python",
   "name": "python",
   "nbconvert_exporter": "python",
   "pygments_lexer": "ipython3",
   "version": "3.7.4"
  }
 },
 "nbformat": 4,
 "nbformat_minor": 2
}
