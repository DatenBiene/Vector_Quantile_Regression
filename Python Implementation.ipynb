{
 "cells": [
  {
   "cell_type": "code",
   "execution_count": 707,
   "metadata": {},
   "outputs": [],
   "source": [
    "import numpy as np\n",
    "import matplotlib.pyplot as plt\n",
    "import cvxpy as cp\n",
    "import cv2\n",
    "import random"
   ]
  },
  {
   "cell_type": "code",
   "execution_count": 708,
   "metadata": {},
   "outputs": [
    {
     "data": {
      "text/html": [
       "<div>\n",
       "<style scoped>\n",
       "    .dataframe tbody tr th:only-of-type {\n",
       "        vertical-align: middle;\n",
       "    }\n",
       "\n",
       "    .dataframe tbody tr th {\n",
       "        vertical-align: top;\n",
       "    }\n",
       "\n",
       "    .dataframe thead th {\n",
       "        text-align: right;\n",
       "    }\n",
       "</style>\n",
       "<table border=\"1\" class=\"dataframe\">\n",
       "  <thead>\n",
       "    <tr style=\"text-align: right;\">\n",
       "      <th></th>\n",
       "      <th>Y1</th>\n",
       "      <th>Y2</th>\n",
       "      <th>Intercept</th>\n",
       "      <th>X</th>\n",
       "    </tr>\n",
       "  </thead>\n",
       "  <tbody>\n",
       "    <tr>\n",
       "      <td>0</td>\n",
       "      <td>576.28</td>\n",
       "      <td>125.12</td>\n",
       "      <td>1</td>\n",
       "      <td>835.94</td>\n",
       "    </tr>\n",
       "    <tr>\n",
       "      <td>1</td>\n",
       "      <td>631.80</td>\n",
       "      <td>153.64</td>\n",
       "      <td>1</td>\n",
       "      <td>873.44</td>\n",
       "    </tr>\n",
       "    <tr>\n",
       "      <td>2</td>\n",
       "      <td>608.64</td>\n",
       "      <td>186.00</td>\n",
       "      <td>1</td>\n",
       "      <td>951.44</td>\n",
       "    </tr>\n",
       "    <tr>\n",
       "      <td>3</td>\n",
       "      <td>301.00</td>\n",
       "      <td>122.00</td>\n",
       "      <td>1</td>\n",
       "      <td>473.00</td>\n",
       "    </tr>\n",
       "    <tr>\n",
       "      <td>4</td>\n",
       "      <td>378.00</td>\n",
       "      <td>134.00</td>\n",
       "      <td>1</td>\n",
       "      <td>601.00</td>\n",
       "    </tr>\n",
       "  </tbody>\n",
       "</table>\n",
       "</div>"
      ],
      "text/plain": [
       "       Y1      Y2  Intercept       X\n",
       "0  576.28  125.12          1  835.94\n",
       "1  631.80  153.64          1  873.44\n",
       "2  608.64  186.00          1  951.44\n",
       "3  301.00  122.00          1  473.00\n",
       "4  378.00  134.00          1  601.00"
      ]
     },
     "execution_count": 708,
     "metadata": {},
     "output_type": "execute_result"
    }
   ],
   "source": [
    "import pandas as pd\n",
    "\n",
    "X = pd.read_csv('Vector_Quantile_Regression/Data/MVEngelX.csv', header= None)\n",
    "Y = pd.read_csv('Vector_Quantile_Regression/Data/MVEngelY.csv', header= None)\n",
    "\n",
    "X.columns = ['X']\n",
    "Y.columns = ['Y1', 'Y2']\n",
    "\n",
    "df = Y\n",
    "df['Intercept'] =1\n",
    "df['X'] = X\n",
    "#df['X2'] = X**2\n",
    "\n",
    "df.head(5)"
   ]
  },
  {
   "cell_type": "code",
   "execution_count": 711,
   "metadata": {},
   "outputs": [],
   "source": [
    "X = df[['Intercept', 'X']].to_numpy()\n",
    "Y = df[['Y1', 'Y2']].to_numpy()\n",
    "\n",
    "\n",
    "step = 0.05\n",
    "\n",
    "x = np.arange(0, 1+step, step)\n",
    "y = np.arange(0, 1+step, step)\n",
    "x,y = np.meshgrid(x,y)\n",
    "\n",
    "u=np.array([x.flatten(),y.flatten()]).T"
   ]
  },
  {
   "cell_type": "code",
   "execution_count": 712,
   "metadata": {},
   "outputs": [],
   "source": [
    "U = u.T\n",
    "Y = Y.T"
   ]
  },
  {
   "cell_type": "code",
   "execution_count": 713,
   "metadata": {},
   "outputs": [
    {
     "data": {
      "text/plain": [
       "((2, 441), (2, 235))"
      ]
     },
     "execution_count": 713,
     "metadata": {},
     "output_type": "execute_result"
    }
   ],
   "source": [
    "U.shape , Y.shape"
   ]
  },
  {
   "cell_type": "code",
   "execution_count": 714,
   "metadata": {},
   "outputs": [],
   "source": [
    "n = Y.shape[1]\n",
    "m = U.shape[1]\n"
   ]
  },
  {
   "cell_type": "code",
   "execution_count": 715,
   "metadata": {},
   "outputs": [],
   "source": [
    "normalize = lambda a: a/np.sum(a)\n",
    "nu = normalize(np.random.rand(n, 1))\n",
    "mu = normalize(np.random.rand(m, 1))"
   ]
  },
  {
   "cell_type": "code",
   "execution_count": 716,
   "metadata": {},
   "outputs": [],
   "source": [
    "def distmat(x,y):\n",
    "    return np.sum(x**2,0)[:,None] + np.sum(y**2,0)[None,:] - 2*x.transpose().dot(y)\n",
    "C = distmat(U,Y)"
   ]
  },
  {
   "cell_type": "code",
   "execution_count": 717,
   "metadata": {},
   "outputs": [],
   "source": [
    "P = cp.Variable((m,n))\n",
    "ind_n = np.ones((n,1))\n",
    "ind_m = np.ones((m,1))"
   ]
  },
  {
   "cell_type": "code",
   "execution_count": 718,
   "metadata": {},
   "outputs": [],
   "source": [
    "constraints = [0 <= P, cp.matmul(P.T,ind_m)==nu, cp.matmul(P,X)==cp.matmul(cp.matmul(mu,nu.T),X)]"
   ]
  },
  {
   "cell_type": "code",
   "execution_count": 719,
   "metadata": {},
   "outputs": [],
   "source": [
    "objective = cp.Minimize( cp.sum(cp.multiply(P,C)) )\n",
    "prob = cp.Problem(objective, constraints)\n",
    "result = prob.solve()"
   ]
  },
  {
   "cell_type": "code",
   "execution_count": 720,
   "metadata": {},
   "outputs": [
    {
     "name": "stdout",
     "output_type": "stream",
     "text": [
      "Number of non-zero: 5036 (n + m-1 = 675)\n"
     ]
    }
   ],
   "source": [
    "print(\"Number of non-zero: %d (n + m-1 = %d)\" %(len(P.value[P.value>1e-5]), n + m-1))"
   ]
  },
  {
   "cell_type": "code",
   "execution_count": 721,
   "metadata": {},
   "outputs": [],
   "source": [
    "psi = constraints[1].dual_value\n",
    "b = constraints[2].dual_value"
   ]
  },
  {
   "cell_type": "markdown",
   "metadata": {},
   "source": [
    "# Precious function"
   ]
  },
  {
   "cell_type": "code",
   "execution_count": 722,
   "metadata": {
    "scrolled": true
   },
   "outputs": [],
   "source": [
    "def get_dfU(U, b,step):\n",
    "    d = U.T.shape[1]\n",
    "    dfU = pd.DataFrame(u)\n",
    "    dim = [i for i in range(d)]\n",
    "    dfU[[str(i)+\"_follower\" for i in list(dfU.columns)]] = dfU[dfU.columns]\n",
    "\n",
    "    for k in range(d):\n",
    "    \n",
    "        dfU_temp = dfU.copy()\n",
    "        dfU_temp[k] = dfU_temp[k].apply(lambda x: x+step if x<1 else x-step )\n",
    "    \n",
    "        find_in = list(dfU[dim].apply(lambda x: list(np.around(x, 3)),axis=1))\n",
    "    \n",
    "        dfU[str(k)+\"_follower\"] = dfU_temp[dim].apply(lambda x: list(np.around(x, 3)), axis =1).apply(lambda x: find_in.index(x))\n",
    "    \n",
    "    dfU['b']=pd.DataFrame(b).apply(np.array,axis=1)\n",
    "    \n",
    "    for i in range(d):\n",
    "        dfU['beta_'+str(i)]=(dfU.loc[list(dfU[str(i)+\"_follower\"])][['b']].reset_index(drop=True) - dfU[['b']])/step\n",
    "    \n",
    "    beta = ['beta_'+str(i) for i in range(2)]\n",
    "    dfU['beta'] = dfU[beta].apply(lambda x : np.vstack(x), axis = 1)\n",
    "    \n",
    "    return dfU"
   ]
  },
  {
   "cell_type": "code",
   "execution_count": 759,
   "metadata": {},
   "outputs": [
    {
     "data": {
      "text/plain": [
       "(2,)"
      ]
     },
     "execution_count": 759,
     "metadata": {},
     "output_type": "execute_result"
    }
   ],
   "source": [
    "xeval = np.array([1,883.99])\n",
    "xeval.shape"
   ]
  },
  {
   "cell_type": "code",
   "execution_count": 760,
   "metadata": {},
   "outputs": [],
   "source": [
    "df = get_dfU(U, b,step)"
   ]
  },
  {
   "cell_type": "code",
   "execution_count": 761,
   "metadata": {},
   "outputs": [],
   "source": [
    "y_hat = df['beta'].apply(lambda x : np.matmul(x, xeval))"
   ]
  },
  {
   "cell_type": "code",
   "execution_count": 762,
   "metadata": {
    "scrolled": true
   },
   "outputs": [],
   "source": [
    "y_1_hat = y_hat.apply(lambda x: x[0])\n",
    "y_2_hat = y_hat.apply(lambda x: x[1])"
   ]
  },
  {
   "cell_type": "code",
   "execution_count": 768,
   "metadata": {},
   "outputs": [
    {
     "data": {
      "image/png": "[encoded data removed]",
      "text/plain": [
       "<Figure size 432x288 with 1 Axes>"
      ]
     },
     "metadata": {
      "needs_background": "light"
     },
     "output_type": "display_data"
    }
   ],
   "source": [
    "from mpl_toolkits.mplot3d import Axes3D\n",
    "import matplotlib.pyplot as plt\n",
    "from matplotlib import cm\n",
    "from matplotlib.ticker import LinearLocator, FormatStrFormatter\n",
    "import numpy as np\n",
    "\n",
    "\n",
    "fig = plt.figure()\n",
    "ax = fig.gca(projection='3d')\n",
    "\n",
    "x = np.reshape(df[0].ravel(), (21, 21))\n",
    "y = np.reshape(df[1].ravel(), (21, 21))\n",
    "z = np.reshape(y_1_hat.ravel(), (21, 21))\n",
    "\n",
    "surf = ax.plot_surface(x, y, z, cmap=cm.coolwarm,\n",
    "                       linewidth=0, antialiased=False)\n",
    "\n",
    "\n",
    "plt.show()"
   ]
  },
  {
   "cell_type": "code",
   "execution_count": 764,
   "metadata": {
    "scrolled": true
   },
   "outputs": [
    {
     "data": {
      "image/png": "[encoded data removed]",
      "text/plain": [
       "<Figure size 432x288 with 1 Axes>"
      ]
     },
     "metadata": {
      "needs_background": "light"
     },
     "output_type": "display_data"
    }
   ],
   "source": [
    "from mpl_toolkits.mplot3d import Axes3D\n",
    "import matplotlib.pyplot as plt\n",
    "from matplotlib import cm\n",
    "from matplotlib.ticker import LinearLocator, FormatStrFormatter\n",
    "import numpy as np\n",
    "\n",
    "\n",
    "fig = plt.figure()\n",
    "ax = fig.gca(projection='3d')\n",
    "\n",
    "x = np.reshape(df[0].ravel(), (21, 21))\n",
    "y = np.reshape(df[1].ravel(), (21, 21))\n",
    "z = np.reshape(y_2_hat.ravel(), (21, 21))\n",
    "\n",
    "surf = ax.plot_surface(x, y, z, cmap=cm.coolwarm,\n",
    "                       linewidth=0, antialiased=False)\n",
    "\n",
    "\n",
    "plt.show()"
   ]
  },
  {
   "cell_type": "markdown",
   "metadata": {},
   "source": [
    "# Backup"
   ]
  },
  {
   "cell_type": "code",
   "execution_count": 679,
   "metadata": {},
   "outputs": [],
   "source": [
    "def grad2D(f,T,U,step):\n",
    "    EPS = 0.0001\n",
    "    fact = 10/step\n",
    "    l = len(T)\n",
    "    m = U.shape[0]\n",
    "    D1 = np.ones((m,1))*0\n",
    "    D2 = np.ones((m,1))*0\n",
    "    \n",
    "    which = lambda lst:list(np.where(lst)[0])\n",
    "    \n",
    "    liste = [i+1 for i in range(l)]\n",
    "    for i1 in liste :\n",
    "        u1=T[i1]\n",
    "        for i2 in liste : \n",
    "            u2=T[i2]\n",
    "            j=which((fact*U[:,1] + U[:,2])==(fact*u1+u2))\n",
    "            jprecx = which(abs((fact*U[:,1] + U[:,2])-(fact*(u1-step)+u2))<EPS)\n",
    "            jprecy = which(abs((fact*U[:,1] + U[:,2])-(fact*u1+(u2-step)))<EPS)\n",
    "            #if ((len(jprecx)!=1)|(len(jprecy)!=1)):\n",
    "            #    print(\"Problem in grad2D\")\n",
    "            #    return None\n",
    "            D1[j]=(f[j]-f[jprecx])/step\n",
    "            D2[j]=(f[j]-f[jprecy])/step\n",
    "    \n",
    "    return (D1,D2)\n",
    "\n",
    "def ComputeBetaEtAl2D(b_prov,T,U_prov,pi_prov,step):\n",
    "    m_prov = b_prov.shape[0]\n",
    "    r = b_prov.shape[1]\n",
    "    n = pi_prov.shape[1]\n",
    "    \n",
    "    which = lambda lst:list(np.where(lst)[0])\n",
    "    nonzind= which((U_prov[:,1] != 0) & (U_prov[:,2] != 0))\n",
    "    U = np.c_[U_prov[nonzind,0],U_prov[nonzind,1]]\n",
    "    m = U.shape[0]\n",
    "    mu = np.ones((m,1))/m\n",
    "    beta1 = np.ones((m,r))*0 \n",
    "    beta2 = np.ones((m,r))*0 \n",
    "    for k in range(r):\n",
    "        theGrad = grad2D(b_prov[:,k],T,U_prov,step)\n",
    "        beta1[:,0], beta2[:,k] = grad2D(b_prov[:,k],T,U_prov,step)\n",
    "    pi=np.ones((m,n))*0\n",
    "    for i in range(n):\n",
    "        pi[:,i]=pi_prov[nonzind,i] \n",
    "        \n",
    "    b = b_prov[nonzind]\n",
    "    return (beta1,beta2,U,m,mu,pi,b)"
   ]
  },
  {
   "cell_type": "code",
   "execution_count": null,
   "metadata": {},
   "outputs": [],
   "source": []
  }
 ],
 "metadata": {
  "kernelspec": {
   "display_name": "Python 3",
   "language": "python",
   "name": "python3"
  },
  "language_info": {
   "codemirror_mode": {
    "name": "ipython",
    "version": 3
   },
   "file_extension": ".py",
   "mimetype": "text/x-python",
   "name": "python",
   "nbconvert_exporter": "python",
   "pygments_lexer": "ipython3",
   "version": "3.7.4"
  }
 },
 "nbformat": 4,
 "nbformat_minor": 2
}
